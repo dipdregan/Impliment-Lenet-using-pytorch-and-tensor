{
  "nbformat": 4,
  "nbformat_minor": 0,
  "metadata": {
    "colab": {
      "name": "implement_lenet_using_torch_and_tensor.ipynb",
      "provenance": [],
      "collapsed_sections": []
    },
    "kernelspec": {
      "name": "python3",
      "display_name": "Python 3"
    },
    "language_info": {
      "name": "python"
    },
    "accelerator": "GPU"
  },
  "cells": [
    {
      "cell_type": "code",
      "source": [
        "# Numerical computation and visualization libraries \n",
        "import numpy as np\n",
        "import pandas as pd\n",
        "import matplotlib.pyplot as plt\n",
        "%matplotlib inline\n",
        "import seaborn as sns\n",
        "\n",
        "# Pytorch Libraries\n",
        "import torch\n",
        "import torchvision\n",
        "import torchvision.transforms as tr\n",
        "import torch.nn as nn\n",
        "from torch.utils.data import random_split\n",
        "import torch.optim as optim\n",
        "from torchvision import models\n",
        "import copy"
      ],
      "metadata": {
        "id": "jFh08vJo0216"
      },
      "execution_count": 48,
      "outputs": []
    },
    {
      "cell_type": "code",
      "source": [
        "device = torch.device(\"cuda:0\" if torch.cuda.is_available() else \"cpu\")\n",
        "print(device)"
      ],
      "metadata": {
        "colab": {
          "base_uri": "https://localhost:8080/"
        },
        "id": "uGzhYvQG03iR",
        "outputId": "1e304035-6acf-409c-fb06-097cb2e0fea9"
      },
      "execution_count": 49,
      "outputs": [
        {
          "output_type": "stream",
          "name": "stdout",
          "text": [
            "cuda:0\n"
          ]
        }
      ]
    },
    {
      "cell_type": "code",
      "source": [
        "# Dataset \n",
        "\n",
        "trainset = torchvision.datasets.MNIST(root='./data',\n",
        "                                      train=True,\n",
        "                                      download=True,\n",
        "                                      #transform=tr.ToTensor()\n",
        "                                      )\n",
        "\n",
        "\n",
        "testset = torchvision.datasets.MNIST(root='./data',\n",
        "                                     train=False,\n",
        "                                     download=True,\n",
        "                                     #transform=tr.ToTensor()\n",
        "                                    )\n",
        "\n",
        "print('Len of train dataset ',len(trainset))\n",
        "print('Len of test dataset ',len(testset))\n",
        "print('-'*30)\n",
        "print(trainset)\n",
        "print(testset)\n",
        "print('-'*30)\n",
        "print(trainset[0])\n",
        "print(testset[0])\n",
        "print('-'*30)\n",
        "trainset[0][0]"
      ],
      "metadata": {
        "colab": {
          "base_uri": "https://localhost:8080/",
          "height": 305
        },
        "id": "skQXV0uy07_s",
        "outputId": "6696af3f-5afa-4517-c7c4-a6babb1d8781"
      },
      "execution_count": 50,
      "outputs": [
        {
          "output_type": "stream",
          "name": "stdout",
          "text": [
            "Len of train dataset  60000\n",
            "Len of test dataset  10000\n",
            "------------------------------\n",
            "Dataset MNIST\n",
            "    Number of datapoints: 60000\n",
            "    Root location: ./data\n",
            "    Split: Train\n",
            "Dataset MNIST\n",
            "    Number of datapoints: 10000\n",
            "    Root location: ./data\n",
            "    Split: Test\n",
            "------------------------------\n",
            "(<PIL.Image.Image image mode=L size=28x28 at 0x7FEA2FCD6350>, 5)\n",
            "(<PIL.Image.Image image mode=L size=28x28 at 0x7FEA2FCD6190>, 7)\n",
            "------------------------------\n"
          ]
        },
        {
          "output_type": "execute_result",
          "data": {
            "text/plain": [
              "<PIL.Image.Image image mode=L size=28x28 at 0x7FEA2FCD65D0>"
            ],
            "image/png": "[encoded data removed]"
          },
          "metadata": {},
          "execution_count": 50
        }
      ]
    },
    {
      "cell_type": "code",
      "source": [
        "# Loading images and labels for fifth item dataitem\n",
        "\n",
        "image , label = trainset[4]\n",
        "plt.imshow(image)\n",
        "print('Label :',label)"
      ],
      "metadata": {
        "colab": {
          "base_uri": "https://localhost:8080/",
          "height": 282
        },
        "id": "Uf12h8ad2yot",
        "outputId": "5881c539-6cbc-461e-d169-802793e26962"
      },
      "execution_count": 51,
      "outputs": [
        {
          "output_type": "stream",
          "name": "stdout",
          "text": [
            "Label : 9\n"
          ]
        },
        {
          "output_type": "display_data",
          "data": {
            "text/plain": [
              "<Figure size 432x288 with 1 Axes>"
            ],
            "image/png": "[encoded data removed]"
          },
          "metadata": {
            "needs_background": "light"
          }
        }
      ]
    },
    {
      "cell_type": "code",
      "source": [
        "#Converting the Dataset into tensors\n",
        "\n",
        "trainset = torchvision.datasets.MNIST(root='./data',\n",
        "                                      train=True,\n",
        "                                      download=True,\n",
        "                                      transform=tr.ToTensor()\n",
        "                                      )\n",
        "\n",
        "\n",
        "testset = torchvision.datasets.MNIST(root='./data',\n",
        "                                     train=False,\n",
        "                                     download=True,\n",
        "                                     transform=tr.ToTensor()\n",
        "                                    )"
      ],
      "metadata": {
        "id": "7DkMHbg03BPz"
      },
      "execution_count": 52,
      "outputs": []
    },
    {
      "cell_type": "code",
      "source": [
        "# Split the data into train and validation set\n",
        "\n",
        "trainset , valset = random_split(trainset,[50000,10000])\n",
        "len(trainset),len(valset)"
      ],
      "metadata": {
        "colab": {
          "base_uri": "https://localhost:8080/"
        },
        "id": "WM_g7dCx3dFI",
        "outputId": "7f42755a-7bfb-4ff9-bf52-fe6c2ab6b582"
      },
      "execution_count": 53,
      "outputs": [
        {
          "output_type": "execute_result",
          "data": {
            "text/plain": [
              "(50000, 10000)"
            ]
          },
          "metadata": {},
          "execution_count": 53
        }
      ]
    },
    {
      "cell_type": "code",
      "source": [
        "batch_size= 128\n",
        "\n",
        "trainloader = torch.utils.data.DataLoader(trainset,\n",
        "                                          batch_size=batch_size,\n",
        "                                          shuffle=True)\n",
        "\n",
        "valloader = torch.utils.data.DataLoader(valset,\n",
        "                                          batch_size=batch_size,\n",
        "                                          shuffle=False)\n",
        "\n",
        "testloader = torch.utils.data.DataLoader(testset,\n",
        "                                          batch_size=batch_size,\n",
        "                                          shuffle=False)\n",
        "\n",
        "classes = ('0','1','2','3','4','5','6','7','8','9')"
      ],
      "metadata": {
        "id": "FM_AQVro3jjY"
      },
      "execution_count": 54,
      "outputs": []
    },
    {
      "cell_type": "code",
      "source": [
        "images , labels= next(iter(trainloader))\n",
        "print(images.shape)\n",
        "print(images[1].shape)\n",
        "print(labels[1].item())\n",
        "\n",
        "plt.figure(figsize=(8,8))\n",
        "def imshow(img):\n",
        "    npimg = img.numpy()\n",
        "    plt.imshow(np.transpose(npimg,(1,2,0)))\n",
        "    plt.show()\n",
        "    \n",
        "    \n",
        "# imshow(torchvision.utils.make_grid(images))"
      ],
      "metadata": {
        "colab": {
          "base_uri": "https://localhost:8080/",
          "height": 86
        },
        "id": "tOFpdAXb34B_",
        "outputId": "94a8c328-bb33-4a18-aedc-62caaf07a764"
      },
      "execution_count": 55,
      "outputs": [
        {
          "output_type": "stream",
          "name": "stdout",
          "text": [
            "torch.Size([128, 1, 28, 28])\n",
            "torch.Size([1, 28, 28])\n",
            "7\n"
          ]
        },
        {
          "output_type": "display_data",
          "data": {
            "text/plain": [
              "<Figure size 576x576 with 0 Axes>"
            ]
          },
          "metadata": {}
        }
      ]
    },
    {
      "cell_type": "code",
      "source": [
        "# Plotting images \n",
        "\n",
        "plt.figure(figsize=(12,12))\n",
        "plt.subplot(321)\n",
        "for i in range(36):\n",
        "    ax1 = plt.subplot(6,6,i+1)\n",
        "    plt.imshow(images[i+1].reshape(28,28).detach().numpy(),cmap='gray')\n",
        "    plt.title(labels[i+1].item())\n",
        "    plt.axis('off')\n",
        "plt.show()"
      ],
      "metadata": {
        "colab": {
          "base_uri": "https://localhost:8080/",
          "height": 698
        },
        "id": "2X8AEukN3_Cl",
        "outputId": "a2bd7ade-cb0d-4a13-bc20-06b24624b85c"
      },
      "execution_count": 56,
      "outputs": [
        {
          "output_type": "display_data",
          "data": {
            "text/plain": [
              "<Figure size 864x864 with 36 Axes>"
            ],
            "image/png": "[encoded data removed]"
          },
          "metadata": {
            "needs_background": "light"
          }
        }
      ]
    },
    {
      "cell_type": "code",
      "source": [
        ""
      ],
      "metadata": {
        "id": "rO2vXTky4iqb"
      },
      "execution_count": 56,
      "outputs": []
    },
    {
      "cell_type": "markdown",
      "source": [
        "## Let's Train LeNET"
      ],
      "metadata": {
        "id": "5TDuB_QT4sjF"
      }
    },
    {
      "cell_type": "code",
      "source": [
        " # Defining a custom LeNet module\n",
        "\n",
        "class LeNet(nn.Module):                         # Extending nn.Module class \n",
        "    def __init__(self):                         # Constructor \n",
        "        super(LeNet,self).__init__()            # Calls the constructor of nn.Module\n",
        "        self.cnn_model = nn.Sequential(         # nn.Sequentila allows multiple layers to stack together\n",
        "            nn.Conv2d(1,6,5),                   #(N,1,28,28) -> (N,6,24,24)\n",
        "            nn.Tanh(),                      \n",
        "            nn.AvgPool2d(2,stride=2),           #(N,6,24,24) -> (N,6,12,12)\n",
        "            nn.Conv2d(6,16,5),                  #(N,6,12,12) -> (N,16,8,8)\n",
        "            nn.Tanh(),\n",
        "            nn.AvgPool2d(2,stride=2)            #(N,16,8,8) -> (N,16,4,4)\n",
        "            )\n",
        "        \n",
        "        self.fc_model = nn.Sequential(          # Fully connected layer \n",
        "            nn.Linear(256,120),\n",
        "            nn.Tanh(),\n",
        "            nn.Linear(120,84),\n",
        "            nn.Tanh(),\n",
        "            nn.Linear(84,10)\n",
        "        \n",
        "            )\n",
        "        \n",
        "# It get a batch of data which have defined earlier \n",
        "        \n",
        "    def forward(self,x):     \n",
        "        #print(x.shape)\n",
        "        x = self.cnn_model(x)       \n",
        "        #print(x.shape)\n",
        "        x = x.view(x.size(0),-1)    # Flatning the inputs from tensors to vectors \n",
        "        #print(x.shape)\n",
        "        x = self.fc_model(x)        # Passing the conv layer to fully connected layer\n",
        "        #print(x.shape)\n",
        "        return x\n",
        "    \n",
        "net = LeNet()#.to(device)\n",
        "net"
      ],
      "metadata": {
        "colab": {
          "base_uri": "https://localhost:8080/"
        },
        "id": "SoYdqMHA4wmy",
        "outputId": "96c56b37-275f-472b-e1bf-42635b664d9e"
      },
      "execution_count": 57,
      "outputs": [
        {
          "output_type": "execute_result",
          "data": {
            "text/plain": [
              "LeNet(\n",
              "  (cnn_model): Sequential(\n",
              "    (0): Conv2d(1, 6, kernel_size=(5, 5), stride=(1, 1))\n",
              "    (1): Tanh()\n",
              "    (2): AvgPool2d(kernel_size=2, stride=2, padding=0)\n",
              "    (3): Conv2d(6, 16, kernel_size=(5, 5), stride=(1, 1))\n",
              "    (4): Tanh()\n",
              "    (5): AvgPool2d(kernel_size=2, stride=2, padding=0)\n",
              "  )\n",
              "  (fc_model): Sequential(\n",
              "    (0): Linear(in_features=256, out_features=120, bias=True)\n",
              "    (1): Tanh()\n",
              "    (2): Linear(in_features=120, out_features=84, bias=True)\n",
              "    (3): Tanh()\n",
              "    (4): Linear(in_features=84, out_features=10, bias=True)\n",
              "  )\n",
              ")"
            ]
          },
          "metadata": {},
          "execution_count": 57
        }
      ]
    },
    {
      "cell_type": "code",
      "source": [
        ""
      ],
      "metadata": {
        "id": "1LJhhT7z9ohr"
      },
      "execution_count": 57,
      "outputs": []
    },
    {
      "cell_type": "code",
      "source": [
        "print(net.fc_model[4].weight.shape,net.fc_model[4].bias.shape)\n",
        "#list(net.parameters())"
      ],
      "metadata": {
        "colab": {
          "base_uri": "https://localhost:8080/"
        },
        "id": "Kjrm7BW05Ez_",
        "outputId": "380f6f0c-0494-46fb-828a-8184b8399811"
      },
      "execution_count": 58,
      "outputs": [
        {
          "output_type": "stream",
          "name": "stdout",
          "text": [
            "torch.Size([10, 84]) torch.Size([10])\n"
          ]
        }
      ]
    },
    {
      "cell_type": "code",
      "source": [
        "# Evaluate on the basics of accuracy\n",
        "\n",
        "def evaluation(dataloader):\n",
        "    total , correct = 0,0\n",
        "    for data in dataloader:\n",
        "        inputs , labels = data\n",
        "        inputs , labels = inputs.to(device) , labels.to(device)\n",
        "        output = net(inputs)            \n",
        "        max_pred,pred = torch.max(output.data,dim=1)\n",
        "        total +=labels.size(0)\n",
        "        correct +=(pred == labels).sum().item()  \n",
        "    return 100 * correct / total"
      ],
      "metadata": {
        "id": "ql1tVuyL5QXZ"
      },
      "execution_count": 59,
      "outputs": []
    },
    {
      "cell_type": "code",
      "source": [
        "net = LeNet().to(device)           # Creating object for LeNet() model and passing it to GPU \n",
        "\n",
        "loss_fn = nn.CrossEntropyLoss()    # It takes the highest value which is the predictions and mark it as 1\n",
        "                                   # And mark rest of the values as zeros. \n",
        "opt = optim.Adam(net.parameters()) # Using adam Optimization algorithm , we can also specify the hyperparameters ."
      ],
      "metadata": {
        "id": "SAu7eViX5ZfO"
      },
      "execution_count": 60,
      "outputs": []
    },
    {
      "cell_type": "code",
      "source": [
        "# Fit the model and perform the training process \n",
        "\n",
        "%time\n",
        "def fit(max_epochs =16):\n",
        "    \n",
        "    loss_arr = []\n",
        "    loss_epoch_arr = []\n",
        "    \n",
        "    for epoch in range(max_epochs):\n",
        "        for i, data in enumerate(trainloader,0): # Iterating through the train loader \n",
        "            inputs,labels = data\n",
        "            inputs,labels = inputs.to(device),labels.to(device)\n",
        "\n",
        "            opt.zero_grad()     # Reset the gradient in every iteration\n",
        "\n",
        "            outputs = net(inputs)\n",
        "            loss = loss_fn(outputs,labels)   # Loss forward pass\n",
        "            loss.backward()                  # Loss backaed pass\n",
        "            opt.step()                       # Update all the parameters by the given learnig rule\n",
        "\n",
        "            loss_arr.append(loss.item())\n",
        "        loss_epoch_arr.append(loss.item())\n",
        "        print('Val accuracy: %0.2f , Train accuracy : %0.2f'%(evaluation(valloader),evaluation(trainloader)))\n",
        "\n",
        "    plt.plot(loss_epoch_arr)\n",
        "    plt.show()\n",
        "    \n",
        "fit()"
      ],
      "metadata": {
        "colab": {
          "base_uri": "https://localhost:8080/"
        },
        "id": "Hc51Dv995nrr",
        "outputId": "1f901666-e0c3-4f24-cf98-b3a7fe69d71d"
      },
      "execution_count": null,
      "outputs": [
        {
          "output_type": "stream",
          "name": "stdout",
          "text": [
            "CPU times: user 3 µs, sys: 0 ns, total: 3 µs\n",
            "Wall time: 6.68 µs\n",
            "Val accuracy: 94.23 , Train accuracy : 94.51\n",
            "Val accuracy: 96.64 , Train accuracy : 96.79\n",
            "Val accuracy: 97.48 , Train accuracy : 97.91\n",
            "Val accuracy: 97.91 , Train accuracy : 98.45\n",
            "Val accuracy: 97.89 , Train accuracy : 98.48\n",
            "Val accuracy: 98.07 , Train accuracy : 98.86\n",
            "Val accuracy: 98.09 , Train accuracy : 99.02\n",
            "Val accuracy: 98.51 , Train accuracy : 99.29\n",
            "Val accuracy: 98.22 , Train accuracy : 99.10\n",
            "Val accuracy: 98.52 , Train accuracy : 99.45\n",
            "Val accuracy: 98.49 , Train accuracy : 99.49\n",
            "Val accuracy: 98.45 , Train accuracy : 99.60\n",
            "Val accuracy: 98.53 , Train accuracy : 99.60\n",
            "Val accuracy: 98.64 , Train accuracy : 99.67\n"
          ]
        }
      ]
    },
    {
      "cell_type": "code",
      "source": [
        "# Here we are visualiizing the behaviour of image in the first layer () of LeNet Architecture \n",
        "\n",
        "net = net.to('cpu')                    # Taking the model back to the CPU \n",
        "out = net.cnn_model[0](images)\n",
        "print('Image Shape :',out.shape)\n",
        "image_id = 3\n",
        "\n",
        "plt.figure(figsize=(6,6))\n",
        "plt.subplot(321)\n",
        "for i in range(6):\n",
        "    ax1 = plt.subplot(3,2,i+1)\n",
        "    plt.imshow(out[image_id,i,:,:].detach().numpy(),cmap='gray')\n",
        "plt.show()"
      ],
      "metadata": {
        "id": "xeQc4X-I7s91"
      },
      "execution_count": null,
      "outputs": []
    },
    {
      "cell_type": "code",
      "source": [
        "img , label = testset[0]\n",
        "plt.imshow(img[0],cmap='gray')\n",
        "print('Shape :',img.shape)\n",
        "print('Label :',label)\n",
        "print(img.unsqueeze(0).shape)\n",
        "\n",
        "# img.unsqueeze simply adds another dimension at the begining of the 1x28x28 \n",
        "# tensor, making it a 1x1x28x28 tensor, which the model views as a batch containing a single image."
      ],
      "metadata": {
        "id": "33sLG4yW5xSL"
      },
      "execution_count": null,
      "outputs": []
    },
    {
      "cell_type": "code",
      "source": [
        "# Function which loads the prediction of our model\n",
        "\n",
        "def predict_image(img,model):\n",
        "    xb = img.unsqueeze(0)\n",
        "    yb = net(xb)\n",
        "    _,pred = torch.max(yb,dim=1)\n",
        "    return pred[0].item()"
      ],
      "metadata": {
        "id": "iTlTWeCL7zjU"
      },
      "execution_count": 35,
      "outputs": []
    },
    {
      "cell_type": "code",
      "source": [
        "img , label = testset[16]\n",
        "plt.imshow(img[0],cmap='gray')\n",
        "print('Actual :',label,'Predicted:',predict_image(img,net))"
      ],
      "metadata": {
        "colab": {
          "base_uri": "https://localhost:8080/",
          "height": 282
        },
        "id": "6R77YbaZ78ED",
        "outputId": "ee8f43aa-befc-4753-ac80-f09aceba454e"
      },
      "execution_count": 38,
      "outputs": [
        {
          "output_type": "stream",
          "name": "stdout",
          "text": [
            "Actual : 9 Predicted: 9\n"
          ]
        },
        {
          "output_type": "display_data",
          "data": {
            "text/plain": [
              "<Figure size 432x288 with 1 Axes>"
            ],
            "image/png": "[encoded data removed]"
          },
          "metadata": {
            "needs_background": "light"
          }
        }
      ]
    },
    {
      "cell_type": "code",
      "source": [
        "# Function which loads the prediction of our model\n",
        "\n",
        "def predict_image(img,model):              # Here we are giving an input  tensor\n",
        "    xb = img.unsqueeze(0)                  # Adding another dimention because our model accepts a bath\n",
        "    yb = net(xb)                           # Passing the bacth into the model\n",
        "    _,pred = torch.max(yb,dim=1)           # Getting the prediction from output (_ : will give the max prob and prob : will give the index of highest prob)              \n",
        "    return pred[0].item()\n",
        "\n",
        "# View the actual label and prediction of our model\n",
        "\n",
        "plt.figure(figsize=(12,12))\n",
        "plt.subplot(321)\n",
        "for i in range(25):\n",
        "    ax1 = plt.subplot(5,5,i+1)\n",
        "    img , label = testset[i+1]\n",
        "    plt.imshow(img[0],cmap='gray')\n",
        "    if predict_image(img,net) == label:\n",
        "        color = 'green'\n",
        "    else:\n",
        "        color = 'red'\n",
        "    \n",
        "    \n",
        "    plt.xticks([])\n",
        "    plt.yticks([])\n",
        "    plt.tight_layout(pad=2)\n",
        "    plt.title('Pred:{},True:{}'.format(predict_image(img,net),label),color=color)\n",
        "plt.show()"
      ],
      "metadata": {
        "colab": {
          "base_uri": "https://localhost:8080/",
          "height": 855
        },
        "id": "E1Cnqcsl8AHw",
        "outputId": "cb4b74f5-c33c-47bb-90f3-0e287a5fc962"
      },
      "execution_count": 39,
      "outputs": [
        {
          "output_type": "display_data",
          "data": {
            "text/plain": [
              "<Figure size 864x864 with 25 Axes>"
            ],
            "image/png": "[encoded data removed]"
          },
          "metadata": {}
        }
      ]
    },
    {
      "cell_type": "code",
      "source": [
        ""
      ],
      "metadata": {
        "id": "Lc0NA6r1KmUl"
      },
      "execution_count": null,
      "outputs": []
    },
    {
      "cell_type": "markdown",
      "source": [
        ""
      ],
      "metadata": {
        "id": "mljbDCUD-L7E"
      }
    },
    {
      "cell_type": "markdown",
      "source": [
        "# Tensorflow Prediction"
      ],
      "metadata": {
        "id": "_aBRfvTG-Hvy"
      }
    },
    {
      "cell_type": "code",
      "source": [
        "import numpy as np\n",
        "import keras\n",
        "from keras.datasets import mnist\n",
        "import matplotlib.pyplot as plt\n",
        "\n",
        "import tensorflow as tf\n",
        "\n",
        "from tensorflow.keras.utils import to_categorical\n",
        "from keras.layers import Dense, Conv2D, MaxPool2D, Flatten, Dropout\n",
        "#Dropout use for prevent our model to overfitting\n",
        "\n",
        "from keras.models import Sequential\n"
      ],
      "metadata": {
        "id": "O13ywZJYLeFA"
      },
      "execution_count": 16,
      "outputs": []
    },
    {
      "cell_type": "code",
      "source": [
        "#mnist.load_data()"
      ],
      "metadata": {
        "id": "1as0Ut0WLeBX"
      },
      "execution_count": 6,
      "outputs": []
    },
    {
      "cell_type": "code",
      "source": [
        "(x_train,y_train),(x_test,y_test) = mnist.load_data()\n",
        "x_train.shape, y_train.shape , x_test.shape, y_test.shape"
      ],
      "metadata": {
        "colab": {
          "base_uri": "https://localhost:8080/"
        },
        "id": "dwumscifLd-A",
        "outputId": "eb0a2584-bc18-4cb3-b9d8-e47e8d9a8978"
      },
      "execution_count": 7,
      "outputs": [
        {
          "output_type": "execute_result",
          "data": {
            "text/plain": [
              "((60000, 28, 28), (60000,), (10000, 28, 28), (10000,))"
            ]
          },
          "metadata": {},
          "execution_count": 7
        }
      ]
    },
    {
      "cell_type": "code",
      "source": [
        "def plot_input_img(i):\n",
        "  plt.imshow(x_train[i], cmap='binary')\n",
        "  plt.title(y_train[i])\n",
        "  plt.show()\n",
        "plot_input_img(0)"
      ],
      "metadata": {
        "colab": {
          "base_uri": "https://localhost:8080/",
          "height": 281
        },
        "id": "ytYJId4KLd6E",
        "outputId": "9f464b3b-90cf-4c58-e88f-5cc12a28e5d2"
      },
      "execution_count": 8,
      "outputs": [
        {
          "output_type": "display_data",
          "data": {
            "text/plain": [
              "<Figure size 432x288 with 1 Axes>"
            ],
            "image/png": "[encoded data removed]"
          },
          "metadata": {
            "needs_background": "light"
          }
        }
      ]
    },
    {
      "cell_type": "code",
      "source": [
        "for i in range(10):\n",
        "  plot_input_img(i)"
      ],
      "metadata": {
        "colab": {
          "base_uri": "https://localhost:8080/",
          "height": 1000
        },
        "id": "YTR3hStULd2n",
        "outputId": "2df0beb8-3498-43e0-d54c-44193bd256ea"
      },
      "execution_count": 9,
      "outputs": [
        {
          "output_type": "display_data",
          "data": {
            "text/plain": [
              "<Figure size 432x288 with 1 Axes>"
            ],
            "image/png": "[encoded data removed]"
          },
          "metadata": {
            "needs_background": "light"
          }
        },
        {
          "output_type": "display_data",
          "data": {
            "text/plain": [
              "<Figure size 432x288 with 1 Axes>"
            ],
            "image/png": "[encoded data removed]"
          },
          "metadata": {
            "needs_background": "light"
          }
        },
        {
          "output_type": "display_data",
          "data": {
            "text/plain": [
              "<Figure size 432x288 with 1 Axes>"
            ],
            "image/png": "[encoded data removed]"
          },
          "metadata": {
            "needs_background": "light"
          }
        },
        {
          "output_type": "display_data",
          "data": {
            "text/plain": [
              "<Figure size 432x288 with 1 Axes>"
            ],
            "image/png": "[encoded data removed]"
          },
          "metadata": {
            "needs_background": "light"
          }
        },
        {
          "output_type": "display_data",
          "data": {
            "text/plain": [
              "<Figure size 432x288 with 1 Axes>"
            ],
            "image/png": "[encoded data removed]"
          },
          "metadata": {
            "needs_background": "light"
          }
        },
        {
          "output_type": "display_data",
          "data": {
            "text/plain": [
              "<Figure size 432x288 with 1 Axes>"
            ],
            "image/png": "[encoded data removed]"
          },
          "metadata": {
            "needs_background": "light"
          }
        },
        {
          "output_type": "display_data",
          "data": {
            "text/plain": [
              "<Figure size 432x288 with 1 Axes>"
            ],
            "image/png": "[encoded data removed]"
          },
          "metadata": {
            "needs_background": "light"
          }
        },
        {
          "output_type": "display_data",
          "data": {
            "text/plain": [
              "<Figure size 432x288 with 1 Axes>"
            ],
            "image/png": "[encoded data removed]"
          },
          "metadata": {
            "needs_background": "light"
          }
        },
        {
          "output_type": "display_data",
          "data": {
            "text/plain": [
              "<Figure size 432x288 with 1 Axes>"
            ],
            "image/png": "[encoded data removed]"
          },
          "metadata": {
            "needs_background": "light"
          }
        },
        {
          "output_type": "display_data",
          "data": {
            "text/plain": [
              "<Figure size 432x288 with 1 Axes>"
            ],
            "image/png": "[encoded data removed]"
          },
          "metadata": {
            "needs_background": "light"
          }
        }
      ]
    },
    {
      "cell_type": "code",
      "source": [
        "# Let's Preprocess the images\n",
        "\n",
        "# #Normilaizing the image\n",
        "# x_train = x_train.astype(np.float32)/255\n",
        "# x_test = x_test.astype(np.float32)/255\n",
        "\n"
      ],
      "metadata": {
        "id": "yFGYBfaCLdxe"
      },
      "execution_count": 10,
      "outputs": []
    },
    {
      "cell_type": "code",
      "source": [
        "\n",
        "x_train.shape"
      ],
      "metadata": {
        "colab": {
          "base_uri": "https://localhost:8080/"
        },
        "id": "vDlMmgymNZr3",
        "outputId": "1735bb1a-e804-42f5-e5ff-955f46f1ee95"
      },
      "execution_count": 11,
      "outputs": [
        {
          "output_type": "execute_result",
          "data": {
            "text/plain": [
              "(60000, 28, 28)"
            ]
          },
          "metadata": {},
          "execution_count": 11
        }
      ]
    },
    {
      "cell_type": "code",
      "source": [
        "# Let's Preprocess the images\n",
        "from tensorflow.keras.utils import to_categorical\n",
        "#Normilaizing the image\n",
        "x_train = x_train.astype(np.float32)/255\n",
        "x_test = x_test.astype(np.float32)/255\n",
        "\n",
        "#Reshape / expand the dimention of the images to (28,28,1)\n",
        "x_train = np.expand_dims(x_train,-1)\n",
        "x_test = np.expand_dims(x_test,-1)\n",
        "\n",
        "#converting label to one hot encoding\n",
        "y_train = to_categorical(y_train)\n",
        "y_test = to_categorical(y_test)"
      ],
      "metadata": {
        "id": "AyexTKU9NZnm"
      },
      "execution_count": 12,
      "outputs": []
    },
    {
      "cell_type": "code",
      "source": [
        "x_train.shape"
      ],
      "metadata": {
        "colab": {
          "base_uri": "https://localhost:8080/"
        },
        "id": "gKhmsFNqNZj0",
        "outputId": "6716c418-a3d9-4c5a-8fb3-3f50b3b63322"
      },
      "execution_count": 13,
      "outputs": [
        {
          "output_type": "execute_result",
          "data": {
            "text/plain": [
              "(60000, 28, 28, 1)"
            ]
          },
          "metadata": {},
          "execution_count": 13
        }
      ]
    },
    {
      "cell_type": "code",
      "source": [
        ""
      ],
      "metadata": {
        "id": "6G6cBRM8LdvW"
      },
      "execution_count": 83,
      "outputs": []
    },
    {
      "cell_type": "markdown",
      "source": [
        "#### The LeNet architecture we will apply is as follows:\n",
        "\n",
        "INPUT => CONV (28x28x20, f = 5, s = 1) => RELU => POOL (14x14x20, f = 2, s = 2) => CONV (14x14x50, f = 5, s = 1) => RELU => POOL (7x7x50, f = 2, s = 2) + flatten => FC (120) => RELU => FC (84) => softmax\n",
        "\n",
        "Thus, there are 2 conv layers and 2 pooling layers. Then 2 fully connected layers with ReLU activation and the final layer with a softmax"
      ],
      "metadata": {
        "id": "uBTWybtOKtJm"
      }
    },
    {
      "cell_type": "code",
      "source": [
        "model = tf.keras.Sequential([\n",
        "    tf.keras.layers.Conv2D(32, (5, 5), activation='relu', input_shape=(28, 28, 1)),\n",
        "    tf.keras.layers.MaxPooling2D((3, 3)),\n",
        "    tf.keras.layers.Dropout(0.2),\n",
        "    \n",
        "    tf.keras.layers.Conv2D(48, (3, 3), activation='relu'),\n",
        "    tf.keras.layers.MaxPooling2D((3, 3)),\n",
        "    tf.keras.layers.Dropout(0.2),\n",
        "    \n",
        "    tf.keras.layers.Flatten(),\n",
        "    tf.keras.layers.Dense(units=784, activation='relu', input_shape=(784, )),\n",
        "    tf.keras.layers.Dropout(0.2),\n",
        "    tf.keras.layers.Dense(units=392, activation='relu'),\n",
        "    tf.keras.layers.Dropout(0.2),\n",
        "    tf.keras.layers.Dense(units=151, activation='relu'),\n",
        "    tf.keras.layers.Dropout(0.2),\n",
        "    tf.keras.layers.Dense(units=50, activation='relu'),\n",
        "    tf.keras.layers.Dropout(0.2),\n",
        "    tf.keras.layers.Dense(units=10, activation='softmax'),\n",
        "])"
      ],
      "metadata": {
        "id": "-AXX7wyX-G9O"
      },
      "execution_count": 17,
      "outputs": []
    },
    {
      "cell_type": "code",
      "source": [
        "model.summary()\n"
      ],
      "metadata": {
        "colab": {
          "base_uri": "https://localhost:8080/"
        },
        "id": "dL523M0YJ_gY",
        "outputId": "b011e74a-6d5c-4f5a-f8bd-275cb13bab10"
      },
      "execution_count": 18,
      "outputs": [
        {
          "output_type": "stream",
          "name": "stdout",
          "text": [
            "Model: \"sequential\"\n",
            "_________________________________________________________________\n",
            " Layer (type)                Output Shape              Param #   \n",
            "=================================================================\n",
            " conv2d (Conv2D)             (None, 24, 24, 32)        832       \n",
            "                                                                 \n",
            " max_pooling2d (MaxPooling2D  (None, 8, 8, 32)         0         \n",
            " )                                                               \n",
            "                                                                 \n",
            " dropout (Dropout)           (None, 8, 8, 32)          0         \n",
            "                                                                 \n",
            " conv2d_1 (Conv2D)           (None, 6, 6, 48)          13872     \n",
            "                                                                 \n",
            " max_pooling2d_1 (MaxPooling  (None, 2, 2, 48)         0         \n",
            " 2D)                                                             \n",
            "                                                                 \n",
            " dropout_1 (Dropout)         (None, 2, 2, 48)          0         \n",
            "                                                                 \n",
            " flatten (Flatten)           (None, 192)               0         \n",
            "                                                                 \n",
            " dense (Dense)               (None, 784)               151312    \n",
            "                                                                 \n",
            " dropout_2 (Dropout)         (None, 784)               0         \n",
            "                                                                 \n",
            " dense_1 (Dense)             (None, 392)               307720    \n",
            "                                                                 \n",
            " dropout_3 (Dropout)         (None, 392)               0         \n",
            "                                                                 \n",
            " dense_2 (Dense)             (None, 151)               59343     \n",
            "                                                                 \n",
            " dropout_4 (Dropout)         (None, 151)               0         \n",
            "                                                                 \n",
            " dense_3 (Dense)             (None, 50)                7600      \n",
            "                                                                 \n",
            " dropout_5 (Dropout)         (None, 50)                0         \n",
            "                                                                 \n",
            " dense_4 (Dense)             (None, 10)                510       \n",
            "                                                                 \n",
            "=================================================================\n",
            "Total params: 541,189\n",
            "Trainable params: 541,189\n",
            "Non-trainable params: 0\n",
            "_________________________________________________________________\n"
          ]
        }
      ]
    },
    {
      "cell_type": "code",
      "source": [
        ""
      ],
      "metadata": {
        "id": "jyTrcfnQSPLj"
      },
      "execution_count": 18,
      "outputs": []
    },
    {
      "cell_type": "code",
      "source": [
        "model.compile(optimizer='Adam', loss=keras.losses.categorical_crossentropy, metrics=['accuracy'])"
      ],
      "metadata": {
        "id": "wF9kC615-jc1"
      },
      "execution_count": 23,
      "outputs": []
    },
    {
      "cell_type": "code",
      "source": [
        "from numpy.lib.npyio import savez_compressed\n",
        "# callback\n",
        "\n",
        "from keras.callbacks import EarlyStopping, ModelCheckpoint\n",
        "\n",
        "#Early stopping\n",
        "es = EarlyStopping(monitor = 'val_acc', min_delta =0.01, patience=4, verbose=1)\n",
        "\n",
        "#Model check pOINT\n",
        "mc = ModelCheckpoint(\"./BESTMODEL.h5\", monitor = 'val_acc', verbose = 1,save_best_only = True )\n",
        "cb = [es,mc]"
      ],
      "metadata": {
        "id": "CFvsaSkv-kIL"
      },
      "execution_count": 24,
      "outputs": []
    },
    {
      "cell_type": "code",
      "source": [
        "history = model.fit(x_train,y_train, epochs = 50,validation_split=0.3)"
      ],
      "metadata": {
        "colab": {
          "base_uri": "https://localhost:8080/"
        },
        "id": "FMs-O0ed-oDm",
        "outputId": "5f44deb2-b3c5-4cfe-8f59-07a4263bcc8c"
      },
      "execution_count": 25,
      "outputs": [
        {
          "output_type": "stream",
          "name": "stdout",
          "text": [
            "Epoch 1/50\n",
            "1313/1313 [==============================] - 13s 9ms/step - loss: 0.3849 - accuracy: 0.8772 - val_loss: 0.0920 - val_accuracy: 0.9729\n",
            "Epoch 2/50\n",
            "1313/1313 [==============================] - 11s 8ms/step - loss: 0.1306 - accuracy: 0.9652 - val_loss: 0.0663 - val_accuracy: 0.9809\n",
            "Epoch 3/50\n",
            "1313/1313 [==============================] - 12s 9ms/step - loss: 0.1005 - accuracy: 0.9723 - val_loss: 0.0569 - val_accuracy: 0.9848\n",
            "Epoch 4/50\n",
            "1313/1313 [==============================] - 12s 9ms/step - loss: 0.0848 - accuracy: 0.9766 - val_loss: 0.0445 - val_accuracy: 0.9879\n",
            "Epoch 5/50\n",
            "1313/1313 [==============================] - 12s 9ms/step - loss: 0.0855 - accuracy: 0.9780 - val_loss: 0.0448 - val_accuracy: 0.9879\n",
            "Epoch 6/50\n",
            "1313/1313 [==============================] - 12s 9ms/step - loss: 0.0728 - accuracy: 0.9806 - val_loss: 0.0459 - val_accuracy: 0.9882\n",
            "Epoch 7/50\n",
            "1313/1313 [==============================] - 12s 9ms/step - loss: 0.0716 - accuracy: 0.9811 - val_loss: 0.0418 - val_accuracy: 0.9881\n",
            "Epoch 8/50\n",
            "1313/1313 [==============================] - 12s 9ms/step - loss: 0.0652 - accuracy: 0.9826 - val_loss: 0.0413 - val_accuracy: 0.9896\n",
            "Epoch 9/50\n",
            "1313/1313 [==============================] - 12s 9ms/step - loss: 0.0616 - accuracy: 0.9837 - val_loss: 0.0394 - val_accuracy: 0.9894\n",
            "Epoch 10/50\n",
            "1313/1313 [==============================] - 11s 8ms/step - loss: 0.0615 - accuracy: 0.9845 - val_loss: 0.0451 - val_accuracy: 0.9887\n",
            "Epoch 11/50\n",
            "1313/1313 [==============================] - 11s 8ms/step - loss: 0.0545 - accuracy: 0.9854 - val_loss: 0.0399 - val_accuracy: 0.9901\n",
            "Epoch 12/50\n",
            "1313/1313 [==============================] - 12s 9ms/step - loss: 0.0524 - accuracy: 0.9863 - val_loss: 0.0375 - val_accuracy: 0.9914\n",
            "Epoch 13/50\n",
            "1313/1313 [==============================] - 11s 8ms/step - loss: 0.0550 - accuracy: 0.9859 - val_loss: 0.0517 - val_accuracy: 0.9877\n",
            "Epoch 14/50\n",
            "1313/1313 [==============================] - 11s 8ms/step - loss: 0.0535 - accuracy: 0.9858 - val_loss: 0.0390 - val_accuracy: 0.9911\n",
            "Epoch 15/50\n",
            "1313/1313 [==============================] - 11s 8ms/step - loss: 0.0533 - accuracy: 0.9858 - val_loss: 0.0446 - val_accuracy: 0.9898\n",
            "Epoch 16/50\n",
            "1313/1313 [==============================] - 11s 8ms/step - loss: 0.0490 - accuracy: 0.9874 - val_loss: 0.0429 - val_accuracy: 0.9899\n",
            "Epoch 17/50\n",
            "1313/1313 [==============================] - 11s 8ms/step - loss: 0.0489 - accuracy: 0.9883 - val_loss: 0.0328 - val_accuracy: 0.9934\n",
            "Epoch 18/50\n",
            "1313/1313 [==============================] - 12s 9ms/step - loss: 0.0449 - accuracy: 0.9883 - val_loss: 0.0433 - val_accuracy: 0.9906\n",
            "Epoch 19/50\n",
            "1313/1313 [==============================] - 12s 9ms/step - loss: 0.0442 - accuracy: 0.9877 - val_loss: 0.0443 - val_accuracy: 0.9914\n",
            "Epoch 20/50\n",
            "1313/1313 [==============================] - 12s 9ms/step - loss: 0.0433 - accuracy: 0.9885 - val_loss: 0.0428 - val_accuracy: 0.9901\n",
            "Epoch 21/50\n",
            "1313/1313 [==============================] - 11s 8ms/step - loss: 0.0423 - accuracy: 0.9890 - val_loss: 0.0454 - val_accuracy: 0.9898\n",
            "Epoch 22/50\n",
            "1313/1313 [==============================] - 12s 9ms/step - loss: 0.0404 - accuracy: 0.9895 - val_loss: 0.0406 - val_accuracy: 0.9902\n",
            "Epoch 23/50\n",
            "1313/1313 [==============================] - 12s 9ms/step - loss: 0.0472 - accuracy: 0.9877 - val_loss: 0.0428 - val_accuracy: 0.9907\n",
            "Epoch 24/50\n",
            "1313/1313 [==============================] - 12s 9ms/step - loss: 0.0446 - accuracy: 0.9889 - val_loss: 0.0444 - val_accuracy: 0.9904\n",
            "Epoch 25/50\n",
            "1313/1313 [==============================] - 11s 8ms/step - loss: 0.0395 - accuracy: 0.9902 - val_loss: 0.0420 - val_accuracy: 0.9912\n",
            "Epoch 26/50\n",
            "1313/1313 [==============================] - 12s 9ms/step - loss: 0.0418 - accuracy: 0.9894 - val_loss: 0.0425 - val_accuracy: 0.9913\n",
            "Epoch 27/50\n",
            "1313/1313 [==============================] - 11s 8ms/step - loss: 0.0430 - accuracy: 0.9898 - val_loss: 0.0397 - val_accuracy: 0.9934\n",
            "Epoch 28/50\n",
            "1313/1313 [==============================] - 12s 9ms/step - loss: 0.0451 - accuracy: 0.9885 - val_loss: 0.0456 - val_accuracy: 0.9914\n",
            "Epoch 29/50\n",
            "1313/1313 [==============================] - 11s 8ms/step - loss: 0.0364 - accuracy: 0.9911 - val_loss: 0.0419 - val_accuracy: 0.9914\n",
            "Epoch 30/50\n",
            "1313/1313 [==============================] - 11s 8ms/step - loss: 0.0436 - accuracy: 0.9892 - val_loss: 0.0390 - val_accuracy: 0.9928\n",
            "Epoch 31/50\n",
            "1313/1313 [==============================] - 11s 8ms/step - loss: 0.0415 - accuracy: 0.9897 - val_loss: 0.0486 - val_accuracy: 0.9909\n",
            "Epoch 32/50\n",
            "1313/1313 [==============================] - 12s 9ms/step - loss: 0.0374 - accuracy: 0.9905 - val_loss: 0.0385 - val_accuracy: 0.9917\n",
            "Epoch 33/50\n",
            "1313/1313 [==============================] - 11s 8ms/step - loss: 0.0408 - accuracy: 0.9899 - val_loss: 0.0424 - val_accuracy: 0.9928\n",
            "Epoch 34/50\n",
            "1313/1313 [==============================] - 11s 8ms/step - loss: 0.0395 - accuracy: 0.9896 - val_loss: 0.0489 - val_accuracy: 0.9907\n",
            "Epoch 35/50\n",
            "1313/1313 [==============================] - 12s 9ms/step - loss: 0.0389 - accuracy: 0.9901 - val_loss: 0.0488 - val_accuracy: 0.9913\n",
            "Epoch 36/50\n",
            "1313/1313 [==============================] - 11s 8ms/step - loss: 0.0372 - accuracy: 0.9906 - val_loss: 0.0463 - val_accuracy: 0.9930\n",
            "Epoch 37/50\n",
            "1313/1313 [==============================] - 11s 8ms/step - loss: 0.0372 - accuracy: 0.9900 - val_loss: 0.0461 - val_accuracy: 0.9909\n",
            "Epoch 38/50\n",
            "1313/1313 [==============================] - 11s 8ms/step - loss: 0.0366 - accuracy: 0.9912 - val_loss: 0.0460 - val_accuracy: 0.9928\n",
            "Epoch 39/50\n",
            "1313/1313 [==============================] - 12s 9ms/step - loss: 0.0393 - accuracy: 0.9906 - val_loss: 0.0550 - val_accuracy: 0.9919\n",
            "Epoch 40/50\n",
            "1313/1313 [==============================] - 12s 9ms/step - loss: 0.0354 - accuracy: 0.9912 - val_loss: 0.0445 - val_accuracy: 0.9928\n",
            "Epoch 41/50\n",
            "1313/1313 [==============================] - 11s 8ms/step - loss: 0.0354 - accuracy: 0.9909 - val_loss: 0.0421 - val_accuracy: 0.9923\n",
            "Epoch 42/50\n",
            "1313/1313 [==============================] - 11s 8ms/step - loss: 0.0318 - accuracy: 0.9920 - val_loss: 0.0470 - val_accuracy: 0.9908\n",
            "Epoch 43/50\n",
            "1313/1313 [==============================] - 17s 13ms/step - loss: 0.0378 - accuracy: 0.9910 - val_loss: 0.0590 - val_accuracy: 0.9892\n",
            "Epoch 44/50\n",
            "1313/1313 [==============================] - 18s 13ms/step - loss: 0.0387 - accuracy: 0.9906 - val_loss: 0.0350 - val_accuracy: 0.9931\n",
            "Epoch 45/50\n",
            "1313/1313 [==============================] - 11s 8ms/step - loss: 0.0357 - accuracy: 0.9911 - val_loss: 0.0454 - val_accuracy: 0.9926\n",
            "Epoch 46/50\n",
            "1313/1313 [==============================] - 13s 10ms/step - loss: 0.0355 - accuracy: 0.9916 - val_loss: 0.0441 - val_accuracy: 0.9930\n",
            "Epoch 47/50\n",
            "1313/1313 [==============================] - 13s 10ms/step - loss: 0.0357 - accuracy: 0.9914 - val_loss: 0.0397 - val_accuracy: 0.9926\n",
            "Epoch 48/50\n",
            "1313/1313 [==============================] - 12s 9ms/step - loss: 0.0329 - accuracy: 0.9918 - val_loss: 0.0489 - val_accuracy: 0.9918\n",
            "Epoch 49/50\n",
            "1313/1313 [==============================] - 12s 9ms/step - loss: 0.0353 - accuracy: 0.9913 - val_loss: 0.0440 - val_accuracy: 0.9926\n",
            "Epoch 50/50\n",
            "1313/1313 [==============================] - 11s 8ms/step - loss: 0.0377 - accuracy: 0.9918 - val_loss: 0.0399 - val_accuracy: 0.9932\n"
          ]
        }
      ]
    },
    {
      "cell_type": "code",
      "source": [
        "history.history.keys()"
      ],
      "metadata": {
        "colab": {
          "base_uri": "https://localhost:8080/"
        },
        "id": "KrQXN8o2bYWe",
        "outputId": "1cd5a42d-568a-4ba4-8142-8296f84298a9"
      },
      "execution_count": 29,
      "outputs": [
        {
          "output_type": "execute_result",
          "data": {
            "text/plain": [
              "dict_keys(['loss', 'accuracy', 'val_loss', 'val_accuracy'])"
            ]
          },
          "metadata": {},
          "execution_count": 29
        }
      ]
    },
    {
      "cell_type": "code",
      "source": [
        "\n",
        "plt.title('accuracy')\n",
        "plt.plot(range(len(history.history['loss'])), history.history['accuracy'], c='gray', marker='o')\n",
        "plt.plot(range(len(history.history['loss'])), history.history['val_accuracy'], marker='o')\n",
        "plt.legend(labels=['traning accuracy', 'validation accuracy'])\n",
        "plt.show()"
      ],
      "metadata": {
        "colab": {
          "base_uri": "https://localhost:8080/",
          "height": 281
        },
        "id": "iyznoyo1UPTk",
        "outputId": "8f297370-30b0-4558-80a6-c822f246d157"
      },
      "execution_count": 28,
      "outputs": [
        {
          "output_type": "display_data",
          "data": {
            "text/plain": [
              "<Figure size 432x288 with 1 Axes>"
            ],
            "image/png": "[encoded data removed]"
          },
          "metadata": {
            "needs_background": "light"
          }
        }
      ]
    },
    {
      "cell_type": "code",
      "source": [
        "plt.title('Loss')\n",
        "plt.plot(range(len(history.history['loss'])), history.history['loss'], marker='o', c='gray')\n",
        "plt.plot(range(len(history.history['loss'])), history.history['val_loss'], marker='o')\n",
        "plt.legend(labels=['traning loss', 'validation loss'])\n",
        "plt.show()"
      ],
      "metadata": {
        "colab": {
          "base_uri": "https://localhost:8080/",
          "height": 281
        },
        "id": "T3lNljDzaorZ",
        "outputId": "8dedab92-b41e-4896-e03f-a9b965ed84a3"
      },
      "execution_count": 30,
      "outputs": [
        {
          "output_type": "display_data",
          "data": {
            "text/plain": [
              "<Figure size 432x288 with 1 Axes>"
            ],
            "image/png": "[encoded data removed]"
          },
          "metadata": {
            "needs_background": "light"
          }
        }
      ]
    },
    {
      "cell_type": "code",
      "source": [
        "model.evaluate(x_train,y_train)"
      ],
      "metadata": {
        "colab": {
          "base_uri": "https://localhost:8080/"
        },
        "id": "ugoj7sRpbhAO",
        "outputId": "8d437705-4539-48f3-cee2-8baba3a355d7"
      },
      "execution_count": 31,
      "outputs": [
        {
          "output_type": "stream",
          "name": "stdout",
          "text": [
            "1875/1875 [==============================] - 8s 4ms/step - loss: 0.0141 - accuracy: 0.9972\n"
          ]
        },
        {
          "output_type": "execute_result",
          "data": {
            "text/plain": [
              "[0.014140607789158821, 0.9972000122070312]"
            ]
          },
          "metadata": {},
          "execution_count": 31
        }
      ]
    },
    {
      "cell_type": "code",
      "source": [
        "!mkdir -p saved_model\n",
        "model.save('saved_model/tensor_lenetmodel.h5') \n",
        "!ls saved_model"
      ],
      "metadata": {
        "colab": {
          "base_uri": "https://localhost:8080/"
        },
        "id": "gD4NQyowcTPa",
        "outputId": "53a7e127-b576-4909-cc77-b8c15c2cd0b5"
      },
      "execution_count": 38,
      "outputs": [
        {
          "output_type": "stream",
          "name": "stdout",
          "text": [
            "tensor_lenetmodel  tensor_lenetmodel.h5  torch_lenetmodel\n"
          ]
        }
      ]
    }
  ]
}